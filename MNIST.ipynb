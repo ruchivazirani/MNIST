{
 "cells": [
  {
   "cell_type": "code",
   "execution_count": 1,
   "metadata": {
    "collapsed": true
   },
   "outputs": [],
   "source": [
    "import sys\n",
    "import numpy\n",
    "import struct\n",
    "import os\n",
    "import path\n",
    "import matplotlib.pyplot as plt"
   ]
  },
  {
   "cell_type": "code",
   "execution_count": 2,
   "metadata": {
    "collapsed": true
   },
   "outputs": [],
   "source": [
    "def read_idx(idxfile):\n",
    "    with open(idxfile, 'rb') as open_file:\n",
    "        zero, data_type, dims = struct.unpack('>HBB', open_file.read(4))\n",
    "        shape = tuple(struct.unpack('>I', open_file.read(4))[0] for d in range(dims))\n",
    "        return numpy.fromstring(open_file.read(), dtype=numpy.uint8).reshape(shape)"
   ]
  },
  {
   "cell_type": "code",
   "execution_count": 3,
   "metadata": {
    "collapsed": true
   },
   "outputs": [],
   "source": [
    "training_data = read_idx('train-images.idx3-ubyte')\n",
    "training_labels = read_idx('train-labels.idx1-ubyte')\n",
    "testing_data = read_idx('t10k-images.idx3-ubyte')\n",
    "testing_labels = read_idx('t10k-labels.idx1-ubyte')"
   ]
  },
  {
   "cell_type": "code",
   "execution_count": null,
   "metadata": {
    "collapsed": true
   },
   "outputs": [],
   "source": [
    "W = numpy.random.uniform(-1,1,size=(10,784));\n",
    "n = 60000;\n",
    "eta = 1;\n",
    "epoch = 0;\n",
    "errors = {};\n",
    "threshold_e = 0.15;"
   ]
  },
  {
   "cell_type": "code",
   "execution_count": null,
   "metadata": {
    "collapsed": true
   },
   "outputs": [],
   "source": [
    "digits_labels = {};\n",
    "for i in range(10):\n",
    "    temp = numpy.zeros(10);\n",
    "    temp[i] = 1;\n",
    "    digits_labels[i] = temp;"
   ]
  },
  {
   "cell_type": "code",
   "execution_count": null,
   "metadata": {
    "collapsed": true
   },
   "outputs": [],
   "source": [
    "def compareOutput(output,actual_label):\n",
    "    image_vector = digits_labels.get(actual_label);\n",
    "    if (numpy.array_equal(output,image_vector)):\n",
    "        return True;\n",
    "    else:\n",
    "        return False;"
   ]
  },
  {
   "cell_type": "code",
   "execution_count": null,
   "metadata": {
    "collapsed": true
   },
   "outputs": [],
   "source": [
    "def getLargestComponentIndex(v):\n",
    "    return v.argmax(axis=0);"
   ]
  },
  {
   "cell_type": "code",
   "execution_count": null,
   "metadata": {
    "collapsed": true
   },
   "outputs": [],
   "source": [
    "def activation_function(x):\n",
    "    v = numpy.squeeze(numpy.asarray(x));\n",
    "    for i in range(len(x)):\n",
    "        if (x[i] >= 0) == True:\n",
    "            x[i] = 1;\n",
    "        else:\n",
    "            x[i] = 0;\n",
    "    return x;"
   ]
  },
  {
   "cell_type": "code",
   "execution_count": null,
   "metadata": {
    "collapsed": true
   },
   "outputs": [],
   "source": [
    "def countMissClassificationErrors(W,input_matrix,input_labels,errors,epoch):\n",
    "    for i in range(n):\n",
    "        image_vector = input_matrix[i];\n",
    "        image_vector.resize(784,1);\n",
    "        #temp = df[i:(i+1)];\n",
    "        #rowList = temp.values.tolist()[0];\n",
    "        actual_label = input_labels[i];\n",
    "        v = numpy.matmul(W,image_vector);\n",
    "        isDesiredOutput = compareOutput(v,actual_label);\n",
    "        #The case of having more than one output in neuron, full zeroes or incorrect predicted label is automatically \n",
    "        #handled in this false condition.\n",
    "        if(isDesiredOutput == False):\n",
    "            largestComponentIndex = getLargestComponentIndex(v);\n",
    "            if(largestComponentIndex != actual_label):\n",
    "                errors[epoch] = errors.get(epoch) + 1;\n",
    "                #if(errors.get(epoch) == None):\n",
    "                    #errors[epoch] = 1;\n",
    "                #else:     "
   ]
  },
  {
   "cell_type": "code",
   "execution_count": null,
   "metadata": {
    "collapsed": true
   },
   "outputs": [],
   "source": [
    "def updateWeights(W,errors):\n",
    "    for i in range(n):\n",
    "        image_vector = train_data[i];\n",
    "        image_vector.resize(784,1);\n",
    "        actual_label = train_labels[i];\n",
    "        #temp = df[i:(i+1)];\n",
    "        #rowList = temp.values.tolist()[0];\n",
    "        #actual_label = rowList[0];\n",
    "        #image_vector = numpy.array(rowList[1:]);\n",
    "        x_transpose = numpy.transpose(image_vector);\n",
    "        x_transpose_matrix = numpy.asmatrix(x_transpose);\n",
    "        desired_output = digits_labels.get(actual_label);\n",
    "        desired_output.resize(10,1);\n",
    "        v = numpy.matmul(W,image_vector);\n",
    "        u_v = numpy.array(activation_function(v));\n",
    "        difference_matrix = (desired_output - u_v);\n",
    "        difference_product = numpy.matmul(difference_matrix,x_transpose_matrix);\n",
    "        product = eta*difference_product;\n",
    "        product = numpy.squeeze(numpy.asarray(product));\n",
    "        temp = W;\n",
    "        W = W + product;\n",
    "    return W;"
   ]
  },
  {
   "cell_type": "code",
   "execution_count": null,
   "metadata": {
    "collapsed": true
   },
   "outputs": [],
   "source": [
    "def train_perceptron():\n",
    "    tempW = W;\n",
    "    epoch = 0;\n",
    "    while True:\n",
    "        errors[epoch] = 0;\n",
    "        print \"Calculating Missclassification Errors for Epoch: \", epoch;\n",
    "        countMissClassificationErrors(tempW,train_data,train_labels,errors,epoch);\n",
    "        epoch = epoch + 1;\n",
    "        tempW = updateWeights(tempW,errors);\n",
    "        index = epoch - 1;\n",
    "        print \"Num Errors: \",errors[epoch - 1],\"Threshold: \",errors[epoch - 1]/float(n);\n",
    "        if(errors[epoch - 1]/float(n) <= threshold_e):\n",
    "            break;\n",
    "        if(epoch == 100):\n",
    "            break\n",
    "    return tempW;"
   ]
  },
  {
   "cell_type": "code",
   "execution_count": null,
   "metadata": {
    "collapsed": true,
    "scrolled": true
   },
   "outputs": [],
   "source": [
    "updated_weights = train_perceptron();"
   ]
  },
  {
   "cell_type": "code",
   "execution_count": null,
   "metadata": {
    "collapsed": true
   },
   "outputs": [],
   "source": [
    "print updated_weights.shape;\n",
    "print numpy.array_equal(W,updated_weights);"
   ]
  },
  {
   "cell_type": "code",
   "execution_count": null,
   "metadata": {
    "collapsed": true
   },
   "outputs": [],
   "source": [
    "test_errors = {};\n",
    "test_errors[0] = 0;\n",
    "n = 10000;\n",
    "countMissClassificationErrors(updated_weights,test_data,test_labels,test_errors,0);\n",
    "print \"Number of Testing Errors: \",test_errors.get(0);\n",
    "print \"Percentage of Testing Errors: \",(test_errors.get(0)/float(n))*100,\"%\";"
   ]
  },
  {
   "cell_type": "code",
   "execution_count": null,
   "metadata": {
    "collapsed": true
   },
   "outputs": [],
   "source": [
    "n_epochs = range(len(errors));\n",
    "fig, ax = plt.subplots(figsize=(10,10));\n",
    "ax.plot(n_epochs,errors.values(), c = 'red');\n",
    "plt.title('Epochs vs Missclassifications for n = 60000,eta = 1 and e = 0.15');\n",
    "plt.ylabel('Number of Misclassifications');\n",
    "plt.xlabel('Number of Epochs');\n",
    "plt.show();"
   ]
  },
  {
   "cell_type": "code",
   "execution_count": null,
   "metadata": {
    "collapsed": true
   },
   "outputs": [],
   "source": [
    "W = numpy.random.uniform(-1,1,size=(10,784));\n",
    "n = 50;\n",
    "eta = 1;\n",
    "epoch = 0;\n",
    "errors = {};\n",
    "threshold_e = 0.0;\n",
    "updated_weights = train_perceptron();"
   ]
  },
  {
   "cell_type": "code",
   "execution_count": null,
   "metadata": {
    "collapsed": true
   },
   "outputs": [],
   "source": [
    "#\"Testing on samples for updated weights!!!!!\"\n",
    "test_errors = {};\n",
    "test_errors[0] = 0;\n",
    "n = 10000;\n",
    "countMissClassificationErrors(updated_weights,test_data,test_labels,test_errors,0);\n",
    "print \"Number of Testing Errors: \",test_errors.get(0);\n",
    "print \"Percentage of Testing Errors: \",(test_errors.get(0)/float(n))*100,\"%\";"
   ]
  },
  {
   "cell_type": "code",
   "execution_count": null,
   "metadata": {
    "collapsed": true
   },
   "outputs": [],
   "source": [
    "n_epochs = range(len(errors));\n",
    "fig, ax = plt.subplots(figsize=(10,10));\n",
    "ax.plot(n_epochs,errors.values(), c = 'red');\n",
    "plt.title('Epochs vs Missclassifications for n = 50,eta = 1 and e=0');\n",
    "plt.ylabel('Number of Misclassifications');\n",
    "plt.xlabel('Number of Epochs');\n",
    "plt.show();"
   ]
  },
  {
   "cell_type": "code",
   "execution_count": null,
   "metadata": {
    "collapsed": true
   },
   "outputs": [],
   "source": [
    "W = numpy.random.uniform(-1,1,size=(10,784));\n",
    "n = 1000;\n",
    "eta = 1;\n",
    "epoch = 0;\n",
    "errors = {};\n",
    "threshold_e = 0.0;\n",
    "updated_weights = train_perceptron();"
   ]
  },
  {
   "cell_type": "code",
   "execution_count": null,
   "metadata": {
    "collapsed": true
   },
   "outputs": [],
   "source": [
    "#\"Testing on samples for updated weights!!!!!\"\n",
    "test_errors = {};\n",
    "test_errors[0] = 0;\n",
    "n = 10000;\n",
    "countMissClassificationErrors(updated_weights,test_data,test_labels,test_errors,0);\n",
    "print \"Number of Testing Errors: \",test_errors.get(0);\n",
    "print \"Percentage of Testing Errors: \",(test_errors.get(0)/float(n))*100,\"%\";"
   ]
  },
  {
   "cell_type": "code",
   "execution_count": null,
   "metadata": {
    "collapsed": true
   },
   "outputs": [],
   "source": [
    "n_epochs = range(len(errors));\n",
    "fig, ax = plt.subplots(figsize=(10,10));\n",
    "ax.plot(n_epochs,errors.values(), c = 'red');\n",
    "plt.title('Epochs vs Missclassifications for n = 1000,eta = 1 and e = 0');\n",
    "plt.ylabel('Number of Misclassifications');\n",
    "plt.xlabel('Number of Epochs');\n",
    "plt.show();"
   ]
  },
  {
   "cell_type": "code",
   "execution_count": null,
   "metadata": {
    "collapsed": true
   },
   "outputs": [],
   "source": [
    "W = numpy.random.uniform(-1,1,size=(10,784));\n",
    "n = 60000;\n",
    "eta = 1;\n",
    "epoch = 0;\n",
    "errors = {};\n",
    "threshold_e = 0.0;\n",
    "updated_weights = train_perceptron();"
   ]
  },
  {
   "cell_type": "code",
   "execution_count": null,
   "metadata": {
    "collapsed": true
   },
   "outputs": [],
   "source": [
    "#\"Testing on samples for updated weights!!!!!\"\n",
    "test_errors = {};\n",
    "test_errors[0] = 0;\n",
    "n = 10000;\n",
    "countMissClassificationErrors(updated_weights,test_data,test_labels,test_errors,0);\n",
    "print \"Number of Testing Errors: \",test_errors.get(0);\n",
    "print \"Percentage of Testing Errors: \",(test_errors.get(0)/float(n))*100,\"%\";"
   ]
  },
  {
   "cell_type": "code",
   "execution_count": null,
   "metadata": {
    "collapsed": true
   },
   "outputs": [],
   "source": [
    "n_epochs = range(len(errors));\n",
    "fig, ax = plt.subplots(figsize=(10,10));\n",
    "ax.plot(n_epochs,errors.values(), c = 'red');\n",
    "plt.title('Epochs vs Missclassifications for n = 60000,eta = 1 and e = 0');\n",
    "plt.ylabel('Number of Misclassifications');\n",
    "plt.xlabel('Number of Epochs');\n",
    "plt.show();"
   ]
  }
 ],
 "metadata": {
  "kernelspec": {
   "display_name": "Python 3",
   "language": "python",
   "name": "python3"
  },
  "language_info": {
   "codemirror_mode": {
    "name": "ipython",
    "version": 3
   },
   "file_extension": ".py",
   "mimetype": "text/x-python",
   "name": "python",
   "nbconvert_exporter": "python",
   "pygments_lexer": "ipython3",
   "version": "3.6.8"
  }
 },
 "nbformat": 4,
 "nbformat_minor": 2
}
